{
 "cells": [
  {
   "cell_type": "markdown",
   "id": "16c420f7-baf8-4684-acfb-ca0a3ee21e3e",
   "metadata": {},
   "source": [
    "Q1. Soln."
   ]
  },
  {
   "cell_type": "code",
   "execution_count": 1,
   "id": "a7b77825-d11a-4463-8bda-9994d50264af",
   "metadata": {},
   "outputs": [],
   "source": [
    "class vehicle:\n",
    "    def __init__(self,name_of_vehicle,max_speed,average_of_vehicle):\n",
    "        self.name_of_vehicle=name_of_vehicle\n",
    "        self.max_speed=max_speed\n",
    "        self.average_of_vehicle=average_of_vehicle\n",
    "        "
   ]
  },
  {
   "cell_type": "markdown",
   "id": "9c99d865-90a0-4a91-9405-2b31969157d9",
   "metadata": {},
   "source": [
    "Q2. Soln"
   ]
  },
  {
   "cell_type": "code",
   "execution_count": 2,
   "id": "5a89758b-ee75-49ab-8b77-708955397c9c",
   "metadata": {},
   "outputs": [],
   "source": [
    "class car(vehicle):\n",
    "    def seating_capacity(self,capacity):\n",
    "        self.capacity=capacity\n",
    "        return self.name_of_vehicle, self.capacity"
   ]
  },
  {
   "cell_type": "code",
   "execution_count": 6,
   "id": "5fda9565-ac60-4a63-a756-08ac195f419a",
   "metadata": {},
   "outputs": [],
   "source": [
    "car=car(\"maserati\",80,50)"
   ]
  },
  {
   "cell_type": "code",
   "execution_count": 7,
   "id": "c4510ed1-fc89-47a1-a285-548345b2df4a",
   "metadata": {},
   "outputs": [
    {
     "data": {
      "text/plain": [
       "('maserati', 4)"
      ]
     },
     "execution_count": 7,
     "metadata": {},
     "output_type": "execute_result"
    }
   ],
   "source": [
    "car.seating_capacity(4)"
   ]
  },
  {
   "cell_type": "markdown",
   "id": "161fd2a8-38a0-48a0-b9cc-f97372712bb7",
   "metadata": {},
   "source": [
    "Q3. Soln."
   ]
  },
  {
   "cell_type": "code",
   "execution_count": null,
   "id": "bf3b6e94-1e81-4359-9d50-b30b70b70421",
   "metadata": {},
   "outputs": [],
   "source": [
    "Multiple inheritance is a feature in object-oriented programming (OOP) where a class can inherit properties\n",
    "and behaviors from more than one parent class. It means a single class can inherit from multiple base classes \n",
    "and inherit the attributes and methods of all the parent classes. This allows for creating new classes that are\n",
    "more specialized and have a combination of properties from multiple parent classes.\"\"\"\n"
   ]
  },
  {
   "cell_type": "code",
   "execution_count": 9,
   "id": "d641a0e5-9715-4bd0-8bfa-c9ba3fa89cb0",
   "metadata": {},
   "outputs": [],
   "source": [
    "class c1:\n",
    "    def c1(self):\n",
    "        return\"this is first class c1\"\n",
    "class c2:\n",
    "    def c2(self):\n",
    "        return\"this is second class c2\"\n",
    "class c3(c1,c2):\n",
    "    pass"
   ]
  },
  {
   "cell_type": "code",
   "execution_count": 10,
   "id": "1f4d2630-3210-40f2-ac77-e606b0ae3254",
   "metadata": {},
   "outputs": [
    {
     "data": {
      "text/plain": [
       "'this is first class c1'"
      ]
     },
     "execution_count": 10,
     "metadata": {},
     "output_type": "execute_result"
    }
   ],
   "source": [
    "obj=c3()\n",
    "obj.c1()"
   ]
  },
  {
   "cell_type": "code",
   "execution_count": 12,
   "id": "c9e0cb7f-a2d5-49d2-9f2e-7b1d312d25f5",
   "metadata": {},
   "outputs": [
    {
     "data": {
      "text/plain": [
       "'this is 2nd class c2'"
      ]
     },
     "execution_count": 12,
     "metadata": {},
     "output_type": "execute_result"
    }
   ],
   "source": [
    "obj.c2()"
   ]
  },
  {
   "cell_type": "code",
   "execution_count": 13,
   "id": "6f525fc4-2b69-445e-9ce3-6434d3207c9d",
   "metadata": {},
   "outputs": [
    {
     "data": {
      "text/plain": [
       "'this is first class c1'"
      ]
     },
     "execution_count": 13,
     "metadata": {},
     "output_type": "execute_result"
    }
   ],
   "source": [
    "obj.c1()"
   ]
  },
  {
   "cell_type": "markdown",
   "id": "f8c666cc-3fed-4d72-8cfa-9074c669f700",
   "metadata": {},
   "source": [
    "Q4. Soln."
   ]
  },
  {
   "cell_type": "code",
   "execution_count": null,
   "id": "ac0535c7-5431-49a4-8364-774f1cca97c6",
   "metadata": {},
   "outputs": [],
   "source": [
    "Getter:\n",
    "A method that allows you to access an attribute in a given class.\n",
    "\n",
    "Setter:\n",
    "A method that allows you to set or mutate the value of an attribute in a class."
   ]
  },
  {
   "cell_type": "code",
   "execution_count": 14,
   "id": "05727513-8a80-45ef-bcd8-fc91ac2f5d72",
   "metadata": {},
   "outputs": [],
   "source": [
    "class assignment:\n",
    "    \n",
    "    def __init__(self,name,age):\n",
    "        \n",
    "        self.__name = name\n",
    "        self.age = age\n",
    "        \n",
    "    @property\n",
    "    \n",
    "    def get_access(self):\n",
    "        \n",
    "        return self.__name\n",
    "    \n",
    "    @get_access.setter\n",
    "    \n",
    "    def change_name(self , new_name):\n",
    "        \n",
    "        self.__name = new_name\n",
    "        \n"
   ]
  },
  {
   "cell_type": "code",
   "execution_count": 15,
   "id": "56b23e60-9853-4c02-bb81-a9d47661bbd0",
   "metadata": {},
   "outputs": [],
   "source": [
    "obj=assignment(\"Ishu\",18)"
   ]
  },
  {
   "cell_type": "code",
   "execution_count": 16,
   "id": "dec72593-6cc2-4bd9-9237-639231224606",
   "metadata": {},
   "outputs": [
    {
     "data": {
      "text/plain": [
       "'Ishu'"
      ]
     },
     "execution_count": 16,
     "metadata": {},
     "output_type": "execute_result"
    }
   ],
   "source": [
    "obj.get_access"
   ]
  },
  {
   "cell_type": "code",
   "execution_count": 18,
   "id": "72e64348-b28a-446d-a354-8c7b7cb4323b",
   "metadata": {},
   "outputs": [],
   "source": [
    "obj.change_name=\"Amruta\""
   ]
  },
  {
   "cell_type": "code",
   "execution_count": 19,
   "id": "5df07eb3-6b73-42de-9b0f-3c8c1705e11b",
   "metadata": {},
   "outputs": [
    {
     "data": {
      "text/plain": [
       "'Amruta'"
      ]
     },
     "execution_count": 19,
     "metadata": {},
     "output_type": "execute_result"
    }
   ],
   "source": [
    "obj.get_access"
   ]
  },
  {
   "cell_type": "markdown",
   "id": "42e60430-d3cb-4039-9577-58a0b9f8cbad",
   "metadata": {},
   "source": [
    "Q5. Soln."
   ]
  },
  {
   "cell_type": "code",
   "execution_count": null,
   "id": "6830e282-2f52-4524-8049-f15a96645371",
   "metadata": {},
   "outputs": [],
   "source": [
    "method overriding :\n",
    "Method overriding is a feature of object-oriented programming languages where the subclass or child class can provide the program with specific\n",
    "characteristics or a specific implementation process of data provided that are already defined in the parent class or superclass"
   ]
  },
  {
   "cell_type": "code",
   "execution_count": 20,
   "id": "1e8b0623-22eb-46a0-b188-1d6dc2ccdb5c",
   "metadata": {},
   "outputs": [],
   "source": [
    "class parent_override :\n",
    "    \n",
    "    def __init__(self , name , age):\n",
    "        \n",
    "        self.name = name\n",
    "        self.age = age\n",
    "    \n",
    "    @classmethod\n",
    "    def get_details(cls , name_override , age_override ):\n",
    "        return cls( name_override , age_override)\n",
    "\n",
    "    def get_op(self):\n",
    "        \n",
    "        return self.name , self.age"
   ]
  },
  {
   "cell_type": "code",
   "execution_count": 21,
   "id": "ae9de735-d0e8-4555-8cd5-cbb4edecebc7",
   "metadata": {},
   "outputs": [],
   "source": [
    "obj1= parent_override.get_details(\"nishant\",21)"
   ]
  },
  {
   "cell_type": "code",
   "execution_count": 23,
   "id": "c77128cc-009f-49a6-8e6c-f3c4caa7be73",
   "metadata": {},
   "outputs": [
    {
     "data": {
      "text/plain": [
       "('nishant', 21)"
      ]
     },
     "execution_count": 23,
     "metadata": {},
     "output_type": "execute_result"
    }
   ],
   "source": [
    "obj1.get_op()"
   ]
  },
  {
   "cell_type": "code",
   "execution_count": null,
   "id": "d9217d76-be2a-4274-8297-4dbf40845c68",
   "metadata": {},
   "outputs": [],
   "source": []
  }
 ],
 "metadata": {
  "kernelspec": {
   "display_name": "Python 3 (ipykernel)",
   "language": "python",
   "name": "python3"
  },
  "language_info": {
   "codemirror_mode": {
    "name": "ipython",
    "version": 3
   },
   "file_extension": ".py",
   "mimetype": "text/x-python",
   "name": "python",
   "nbconvert_exporter": "python",
   "pygments_lexer": "ipython3",
   "version": "3.10.8"
  }
 },
 "nbformat": 4,
 "nbformat_minor": 5
}
