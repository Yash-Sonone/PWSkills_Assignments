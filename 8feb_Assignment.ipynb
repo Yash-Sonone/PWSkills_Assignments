{
 "cells": [
  {
   "cell_type": "markdown",
   "id": "d4ec9f1a-e1e9-4f02-9197-ef78d71780ca",
   "metadata": {},
   "source": [
    "Q1. Soln"
   ]
  },
  {
   "cell_type": "code",
   "execution_count": 2,
   "id": "d44cffbb-f303-4fe1-9d43-8ddeadb362d2",
   "metadata": {},
   "outputs": [
    {
     "ename": "SyntaxError",
     "evalue": "invalid character '’' (U+2019) (3331526676.py, line 5)",
     "output_type": "error",
     "traceback": [
      "\u001b[0;36m  Cell \u001b[0;32mIn[2], line 5\u001b[0;36m\u001b[0m\n\u001b[0;31m    That’s a very generic concept that’s not limited to object-oriented programming. You can find it everywhere in the real world.\u001b[0m\n\u001b[0m        ^\u001b[0m\n\u001b[0;31mSyntaxError\u001b[0m\u001b[0;31m:\u001b[0m invalid character '’' (U+2019)\n"
     ]
    }
   ],
   "source": [
    "Abstraction in oops :\n",
    "\n",
    "Abstraction is one of the key concepts of object-oriented programming (OOP) languages. Its main goal is to handle complexity by hiding unnecessary details from the user. That enables the user to implement more complex logic on top of the provided abstraction without understanding or even thinking about all the hidden complexity.\n",
    "\n",
    "That’s a very generic concept that’s not limited to object-oriented programming. You can find it everywhere in the real world.\n",
    "\n",
    "Ex. of abstraction :\n",
    "\n",
    "we all use the social platforms and contact our friends, chat, share images etc., but we don’t know how these operations are happening in the background so here the complexity of the task is hidden from the end users."
   ]
  },
  {
   "cell_type": "markdown",
   "id": "02ea1c24-7034-48ea-9241-5d33da9ec0e3",
   "metadata": {},
   "source": [
    "Q2. Soln.\n"
   ]
  },
  {
   "cell_type": "code",
   "execution_count": null,
   "id": "c466f58d-f897-496e-ada2-56d591ec0ffc",
   "metadata": {},
   "outputs": [],
   "source": [
    "Abstraction :\n",
    "\n",
    "Abstraction is one of the key concepts of object-oriented programming (OOP) languages. Its main goal is to handle complexity by hiding unnecessary details from the user. That enables the user to implement more complex logic on top of the provided abstraction without understanding or even thinking about all the hidden complexity.\n",
    "\n",
    "Encapsulation :\n",
    "\n",
    "Encapsulation is binding the data members with member variables. This will avoid the direct access of variables, because direct access of variables may violate privacy, and hiding of the implementation will not be possible.\n",
    "\n",
    "Difference Between Abstraction and Encapsulation :\n",
    "\n",
    "Abstraction is hiding the details and implementation of the code.\n",
    "\n",
    "Encapsulation is hiding the data and controlling the visibility of the code."
   ]
  },
  {
   "cell_type": "markdown",
   "id": "8f431d3d-557a-4968-9b59-3489bb04356b",
   "metadata": {},
   "source": [
    "Q3. Soln."
   ]
  },
  {
   "cell_type": "code",
   "execution_count": null,
   "id": "8d23ce0c-5385-438c-9d0d-2970c331a72f",
   "metadata": {},
   "outputs": [],
   "source": [
    "The use of the abc module in python :\n",
    "\n",
    "The abc stands for abstract base class.\n",
    "\n",
    "The main goal of the abstract base class is to provide a standardized way to test whether an object supports to a given specification. It can also prevent any attempt to instantiate a subclass that doesn’t override a particular method in the superclass. And finally, using an abstract class, a class can derive identity from another class without any object inheritance."
   ]
  },
  {
   "cell_type": "markdown",
   "id": "b85a2ebe-be0a-41b1-827b-b87b00197281",
   "metadata": {},
   "source": [
    "Q4. Soln."
   ]
  },
  {
   "cell_type": "code",
   "execution_count": null,
   "id": "6b3d87d5-3e92-4e18-9ac0-5852064d2b1f",
   "metadata": {},
   "outputs": [],
   "source": [
    "n Python, abstraction can be achieved by having/using abstract classes and methods in our programs.\n",
    "\n",
    "An abstract method is a method that is declared, but does not contain implementation. An abstract method in a base class identifies the functionality that should be implemented by all its subclasses. However, since the implementation of an abstract method would differ from one subclass to another, often the method body comprises just a pass statement. Every subclass of the base class will ride this method with its implementation. A class containing abstract methods is called abstract class.Python provides the abc module to use the abstraction in the Python program, syntax as:\n",
    "\n",
    "from abc import ABC,\n",
    "class ClassName(ABC):"
   ]
  },
  {
   "cell_type": "code",
   "execution_count": null,
   "id": "53c2351a-1b2b-4132-b760-168689fb15fa",
   "metadata": {},
   "outputs": [],
   "source": []
  }
 ],
 "metadata": {
  "kernelspec": {
   "display_name": "Python 3 (ipykernel)",
   "language": "python",
   "name": "python3"
  },
  "language_info": {
   "codemirror_mode": {
    "name": "ipython",
    "version": 3
   },
   "file_extension": ".py",
   "mimetype": "text/x-python",
   "name": "python",
   "nbconvert_exporter": "python",
   "pygments_lexer": "ipython3",
   "version": "3.10.8"
  }
 },
 "nbformat": 4,
 "nbformat_minor": 5
}
