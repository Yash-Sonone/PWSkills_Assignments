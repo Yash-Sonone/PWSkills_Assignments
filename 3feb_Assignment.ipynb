{
 "cells": [
  {
   "cell_type": "markdown",
   "id": "d0c35e28-a571-4dba-a29c-d07600d550e6",
   "metadata": {},
   "source": [
    "Q1. Soln."
   ]
  },
  {
   "cell_type": "code",
   "execution_count": 1,
   "id": "56f6c92e-3c84-4d4e-a09f-e7fbb2b266c3",
   "metadata": {},
   "outputs": [],
   "source": [
    "#The def keyword is use to create function in python.\n",
    "#function to return a list of odd numbers in the range of 1 to 25.\n",
    "\n",
    "def odd_num():\n",
    "    l1=[]\n",
    "    for i in range(1,25):\n",
    "        if i%2!=0:\n",
    "            l1.append(i)\n",
    "    return l1\n"
   ]
  },
  {
   "cell_type": "code",
   "execution_count": 2,
   "id": "955ede9a-651f-413e-9582-e9c1c557d285",
   "metadata": {},
   "outputs": [
    {
     "data": {
      "text/plain": [
       "[1, 3, 5, 7, 9, 11, 13, 15, 17, 19, 21, 23]"
      ]
     },
     "execution_count": 2,
     "metadata": {},
     "output_type": "execute_result"
    }
   ],
   "source": [
    "odd_num()"
   ]
  },
  {
   "cell_type": "markdown",
   "id": "f1999fff-9e97-4773-ac5c-38dc43e08caf",
   "metadata": {},
   "source": [
    "Q2. Soln."
   ]
  },
  {
   "cell_type": "code",
   "execution_count": 3,
   "id": "e3f76e56-2d42-4faa-9a57-4df3a1b92257",
   "metadata": {},
   "outputs": [],
   "source": [
    "#*args=*args in function definitions in python is used to pass a variable number of arguments to a function.\n",
    "\n",
    "def hello(*args):\n",
    "    for arg in args:\n",
    "        return(args)\n",
    " "
   ]
  },
  {
   "cell_type": "code",
   "execution_count": 4,
   "id": "bd646d35-b789-4bdd-9b4e-30c73a25d502",
   "metadata": {},
   "outputs": [
    {
     "data": {
      "text/plain": [
       "('myself', 'yash', 'sonone')"
      ]
     },
     "execution_count": 4,
     "metadata": {},
     "output_type": "execute_result"
    }
   ],
   "source": [
    "hello('myself','yash','sonone')"
   ]
  },
  {
   "cell_type": "code",
   "execution_count": 5,
   "id": "b8ac4480-01fa-4914-9a04-13fb7537eae2",
   "metadata": {},
   "outputs": [
    {
     "name": "stdout",
     "output_type": "stream",
     "text": [
      "first == myself\n",
      "mid == yash\n",
      "last == sonone\n"
     ]
    }
   ],
   "source": [
    "#**kwargs=**kwargs in function definitions in python is used to pass a keyworded, variable-length argument list.\n",
    "\n",
    "def hello(**kwargs):\n",
    "    for key, value in kwargs.items():\n",
    "        print(\"%s == %s\" % (key, value))\n",
    "hello(first='myself', mid='yash', last='sonone')"
   ]
  },
  {
   "cell_type": "markdown",
   "id": "0dd7d6f6-a0e0-4176-96b7-6ea76ed52ce6",
   "metadata": {},
   "source": [
    "Q3. Soln"
   ]
  },
  {
   "cell_type": "code",
   "execution_count": 6,
   "id": "21b7597c-5be1-4cfc-99cf-532cd7d9e5dc",
   "metadata": {},
   "outputs": [
    {
     "name": "stdout",
     "output_type": "stream",
     "text": [
      "2\n",
      "4\n",
      "6\n",
      "8\n",
      "10\n"
     ]
    }
   ],
   "source": [
    "\"\"\"An iterator is an object that contains a countable number of values. \n",
    "An iterator is an object that can be iterated upon, meaning that you can traverse through all the values. \n",
    "Technically, in Python, an iterator is an object which implements the iterator protocol,\n",
    "which consist of the methods __iter__() and __next__() .\n",
    "Iter() method is used to initialize the iterator object so that the instance of \n",
    "this object can be used for iterating.\n",
    "The next() method is used to iterate over the iterable objects.\n",
    "The next() method returns the next value in the iterable object.\"\"\"\n",
    "l=[2,4,6,8,10,12,14,16,18,20]\n",
    "iterator=iter(l)\n",
    "count=0\n",
    "while(count<5):\n",
    "    element=next(iterator)\n",
    "    print(element)\n",
    "    count=count+1   "
   ]
  },
  {
   "cell_type": "markdown",
   "id": "8d383740-4a10-40b9-99db-7e95314e31fa",
   "metadata": {},
   "source": [
    "Q4. Soln"
   ]
  },
  {
   "cell_type": "code",
   "execution_count": 8,
   "id": "82d06b1b-31b0-48af-9aa3-0963a3782361",
   "metadata": {},
   "outputs": [
    {
     "name": "stdout",
     "output_type": "stream",
     "text": [
      "2\n",
      "4\n",
      "6\n",
      "10\n",
      "16\n",
      "26\n",
      "42\n",
      "68\n",
      "110\n",
      "178\n"
     ]
    }
   ],
   "source": [
    "\"\"\"In Python, a generator is a function that returns an iterator that produces a sequence of values when iterated over.\n",
    "Generators are useful when we want to produce a large sequence of values,\n",
    "but we don't want to store all of them in memory at once.\n",
    "yield keyword is used to create a generator function.\n",
    "A type of function that is memory efficient and can be used like an iterator object.\n",
    "In layman terms, the yield keyword will turn any expression that is given with it into a generator\n",
    "object and return it to the caller.\"\"\"\n",
    "\n",
    "def gen(n):\n",
    "    a,b=2,4\n",
    "    for i in range(n):\n",
    "        yield a\n",
    "        a,b=b,a+b\n",
    "for i in gen(10):\n",
    "    print(i)\n"
   ]
  },
  {
   "cell_type": "markdown",
   "id": "628a3d5d-81ae-4430-9a27-31d3d66be292",
   "metadata": {},
   "source": [
    "Q5. Soln"
   ]
  },
  {
   "cell_type": "code",
   "execution_count": 10,
   "id": "f892097c-f2bc-47d8-9e83-15b4f8daa50f",
   "metadata": {},
   "outputs": [
    {
     "name": "stdout",
     "output_type": "stream",
     "text": [
      "2\n",
      "3\n",
      "5\n",
      "7\n",
      "11\n",
      "13\n",
      "17\n",
      "19\n",
      "23\n",
      "29\n",
      "31\n",
      "37\n",
      "41\n",
      "43\n",
      "47\n",
      "53\n",
      "59\n",
      "61\n",
      "67\n",
      "71\n"
     ]
    }
   ],
   "source": [
    "def genprime():\n",
    "    for i in range(2,1000):\n",
    "        flag=0\n",
    "        for j in range(2,i):\n",
    "            if i%j==0:\n",
    "                flag=1\n",
    "        if flag==0:\n",
    "            yield(i)\n",
    "primenos=genprime()\n",
    "for i in range(20):\n",
    "    print(next(primenos))"
   ]
  },
  {
   "cell_type": "markdown",
   "id": "b9d0254f-d8f9-48a6-8648-e0d2bdd81dd9",
   "metadata": {},
   "source": [
    "Q6. Soln"
   ]
  },
  {
   "cell_type": "code",
   "execution_count": 11,
   "id": "7c12c82a-4469-489b-b62c-5816735c89f5",
   "metadata": {},
   "outputs": [
    {
     "name": "stdout",
     "output_type": "stream",
     "text": [
      "0\n",
      "1\n",
      "1\n",
      "2\n",
      "3\n",
      "5\n",
      "8\n",
      "13\n",
      "21\n",
      "34\n"
     ]
    }
   ],
   "source": [
    "\n",
    "a, b = 0, 1\n",
    "count = 0\n",
    "while count < 10:\n",
    "    print(a)\n",
    "    a, b = b, a + b\n",
    "    count += 1\n"
   ]
  },
  {
   "cell_type": "code",
   "execution_count": null,
   "id": "e93eba47-7d0c-4e76-9bf8-ffec99efe234",
   "metadata": {},
   "outputs": [],
   "source": []
  }
 ],
 "metadata": {
  "kernelspec": {
   "display_name": "Python 3 (ipykernel)",
   "language": "python",
   "name": "python3"
  },
  "language_info": {
   "codemirror_mode": {
    "name": "ipython",
    "version": 3
   },
   "file_extension": ".py",
   "mimetype": "text/x-python",
   "name": "python",
   "nbconvert_exporter": "python",
   "pygments_lexer": "ipython3",
   "version": "3.10.8"
  }
 },
 "nbformat": 4,
 "nbformat_minor": 5
}
