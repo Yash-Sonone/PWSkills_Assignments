{
 "cells": [
  {
   "cell_type": "markdown",
   "id": "47bbeb5e-6078-4685-ba83-be96451d9111",
   "metadata": {},
   "source": [
    "Q1. Soln."
   ]
  },
  {
   "cell_type": "code",
   "execution_count": 1,
   "id": "85b481ff-4f12-4def-add1-249107b51acc",
   "metadata": {},
   "outputs": [
    {
     "data": {
      "text/plain": [
       "[('Virat Kohli', 24936),\n",
       " ('Jack Kallis', 25534),\n",
       " ('Ricky Ponting', 27483),\n",
       " ('Sachin Tendulkar', 34357)]"
      ]
     },
     "execution_count": 1,
     "metadata": {},
     "output_type": "execute_result"
    }
   ],
   "source": [
    "t=[('Sachin Tendulkar', 34357), ('Ricky Ponting', 27483), ('Jack Kallis', 25534), ('Virat Kohli', 24936)]\n",
    "t_sorted=sorted(t,key=lambda x:x[1])\n",
    "t_sorted"
   ]
  },
  {
   "cell_type": "markdown",
   "id": "65e155ac-1a60-43f6-88cd-d5b82517b48f",
   "metadata": {},
   "source": [
    "Q2. Soln."
   ]
  },
  {
   "cell_type": "code",
   "execution_count": 3,
   "id": "cd6b7ac4-84d0-44a8-a2f1-b5c4173281c1",
   "metadata": {},
   "outputs": [
    {
     "data": {
      "text/plain": [
       "[1, 4, 9, 16, 25, 36, 49, 64, 81, 100]"
      ]
     },
     "execution_count": 3,
     "metadata": {},
     "output_type": "execute_result"
    }
   ],
   "source": [
    "l=[1,2,3,4,5,6,7,8,9,10]\n",
    "(map(lambda x:x**2,l))\n",
    "list(map(lambda x: x**2,l))"
   ]
  },
  {
   "cell_type": "markdown",
   "id": "53170991-b83e-4634-ab42-5acee3b8c999",
   "metadata": {},
   "source": [
    "Q3. Soln."
   ]
  },
  {
   "cell_type": "code",
   "execution_count": 4,
   "id": "ba4c200c-1bc4-4ea4-b970-53d756c96048",
   "metadata": {},
   "outputs": [
    {
     "data": {
      "text/plain": [
       "('1', '2', '3', '4', '5', '6', '7', '8', '9', '10')"
      ]
     },
     "execution_count": 4,
     "metadata": {},
     "output_type": "execute_result"
    }
   ],
   "source": [
    "l=[1, 2, 3, 4, 5, 6, 7, 8, 9, 10]\n",
    "result_list = list(map(str,l))\n",
    "result_list\n",
    "tuple1=tuple(result_list)\n",
    "tuple1"
   ]
  },
  {
   "cell_type": "code",
   "execution_count": null,
   "id": "2b92fd29-028f-4790-86e3-1664d31aeeef",
   "metadata": {},
   "outputs": [],
   "source": []
  }
 ],
 "metadata": {
  "kernelspec": {
   "display_name": "Python 3 (ipykernel)",
   "language": "python",
   "name": "python3"
  },
  "language_info": {
   "codemirror_mode": {
    "name": "ipython",
    "version": 3
   },
   "file_extension": ".py",
   "mimetype": "text/x-python",
   "name": "python",
   "nbconvert_exporter": "python",
   "pygments_lexer": "ipython3",
   "version": "3.10.8"
  }
 },
 "nbformat": 4,
 "nbformat_minor": 5
}
