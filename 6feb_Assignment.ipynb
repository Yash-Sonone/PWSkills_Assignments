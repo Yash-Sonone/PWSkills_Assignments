{
 "cells": [
  {
   "cell_type": "markdown",
   "id": "975a38c4-6fca-4be4-b830-6d90e32434cb",
   "metadata": {},
   "source": [
    "Q1. Soln."
   ]
  },
  {
   "cell_type": "code",
   "execution_count": 2,
   "id": "4cd8ec51-30fb-454c-bb53-3728dae57629",
   "metadata": {},
   "outputs": [
    {
     "name": "stdout",
     "output_type": "stream",
     "text": [
      "[1, 2, 3, 4, 44, 55, 66, 34, 56, 78, 89, 34, 1, 1, 2, 2, 3, 3, 1, 34, 55, 67, 78, 89, 4, 45, 22, 61, 34, 56]\n",
      "24808271033922512873003047452672000\n"
     ]
    }
   ],
   "source": [
    "from functools import reduce\n",
    "\n",
    "list1 = [1, 2, 3, 4, [44, 55, 66, True], False, (34, 56, 78, 89, 34), {1, 2, 3, 3, 2, 1},\n",
    "         {1: 34, \"key2\": [55, 67, 78, 89], 4: (45,22, 61, 34)}, [56, 'data science'], \n",
    "         'Machine Learning']\n",
    "\n",
    "\n",
    "def get_product(list_o):\n",
    "    new_lsit = []\n",
    "    for data in list_o:\n",
    "        if type(data) == int:\n",
    "            new_lsit.append(data)\n",
    "        elif type(data) == list:\n",
    "            for data_list in data:\n",
    "                if type(data_list) == int:\n",
    "                    new_lsit.append(data_list)\n",
    "        elif type(data) == tuple:\n",
    "            for data_tuple in data:\n",
    "                if type(data_tuple) == int:\n",
    "                    new_lsit.append(data_tuple)\n",
    "        elif type(data) == dict:\n",
    "            for key, value in data.items():\n",
    "                if type(key) == int:\n",
    "                    new_lsit.append(key)\n",
    "                if type(value) == int:\n",
    "                    new_lsit.append(value)\n",
    "                elif type(value) == int:\n",
    "                    new_lsit.append(value)\n",
    "                elif type(value) == list:\n",
    "                    for data_list in value:\n",
    "                        if type(data_list) == int:\n",
    "                            new_lsit.append(data_list)\n",
    "                elif type(value) == tuple:\n",
    "                    for data_tuple in value:\n",
    "                        if type(data_tuple) == int:\n",
    "                            new_lsit.append(data_tuple)\n",
    "        elif type(data) == set:\n",
    "            for num in list(data):\n",
    "                new_lsit.append(num)\n",
    "                new_lsit.append(num)\n",
    "\n",
    "    product = reduce(lambda x, y: x * y, new_lsit)\n",
    "    print(new_lsit)\n",
    "    return product\n",
    "\n",
    "\n",
    "print(get_product(list1))"
   ]
  },
  {
   "cell_type": "markdown",
   "id": "08e8c2cb-fa5b-4c49-9a0d-78644a4efe8b",
   "metadata": {},
   "source": [
    "Q2. Soln."
   ]
  },
  {
   "cell_type": "code",
   "execution_count": null,
   "id": "5bcbb1a7-e3a6-407d-b3bb-2e5490706f49",
   "metadata": {},
   "outputs": [],
   "source": []
  }
 ],
 "metadata": {
  "kernelspec": {
   "display_name": "Python 3 (ipykernel)",
   "language": "python",
   "name": "python3"
  },
  "language_info": {
   "codemirror_mode": {
    "name": "ipython",
    "version": 3
   },
   "file_extension": ".py",
   "mimetype": "text/x-python",
   "name": "python",
   "nbconvert_exporter": "python",
   "pygments_lexer": "ipython3",
   "version": "3.10.8"
  }
 },
 "nbformat": 4,
 "nbformat_minor": 5
}
