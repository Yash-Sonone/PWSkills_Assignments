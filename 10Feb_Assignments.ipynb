{
 "cells": [
  {
   "cell_type": "markdown",
   "id": "0d6ec02a-c021-433d-bf8d-4047ce56d996",
   "metadata": {},
   "source": [
    "Q1. Soln."
   ]
  },
  {
   "cell_type": "code",
   "execution_count": null,
   "id": "7c4bb499-36e7-411d-b06c-194cda105c68",
   "metadata": {},
   "outputs": [],
   "source": [
    "In Python, the open() function is used to open a file.\n",
    "It takes the file name and mode as arguments and returns a file object that you can use to read,\n",
    "write or manipulate the file.\n",
    "\n",
    "In Python, there are several modes that can be used when opening a file with the open() function. The following are the most commonly used modes:\n",
    "\n",
    "\"r\" (read-only mode) - opens the file for reading only. This is the default mode if no mode is specified.\n",
    "\"w\" (write mode) - opens the file for writing. If the file exists, its contents will be truncated and overwritten.\n",
    "If the file does not exist, a new file will be created.\n",
    "\"a\" (append mode) - opens the file for writing, but data is appended to the end of the file if it already exists.\n",
    "If the file does not exist, a new file will be created.\n",
    "\"x\" (exclusive creation mode) - opens the file for writing, but only if the file does not already exist. \n",
    "If the file exists, the open() function will raise an error.\n",
    "\"b\" (binary mode) - opens the file in binary mode. This mode should be used when working with binary files, \n",
    "such as images or audio files.\"t\" (text mode) - opens the file in text mode. This is the default mode if no mode is specified,\n",
    "and it should be used when working with text files."
   ]
  },
  {
   "cell_type": "markdown",
   "id": "a2c00d97-a106-41a5-b61d-4bb94c16e18f",
   "metadata": {},
   "source": [
    "Q2. Soln."
   ]
  },
  {
   "cell_type": "code",
   "execution_count": null,
   "id": "db647934-fa85-4900-ad73-d3e28e51565d",
   "metadata": {},
   "outputs": [],
   "source": [
    "The close() function is used in Python to close a file that was previously opened with the open() function.\n",
    "Closing a file is important for several reasons:\n",
    "\n",
    "Releasing resources: When a file is opened, system resources are allocated for it. By closing the file,\n",
    "you release those resources back to the system, making them available for other processes.\n",
    "\n",
    "Flushing data to disk: When you write to a file, the data is not immediately written to the disk.\n",
    "Instead, it is temporarily stored in a buffer. When you close the file, the contents of the buffer are flushed to the disk,\n",
    "ensuring that the data is saved.\n",
    "\n",
    "Preventing data corruption: If a file is not closed properly, it may result in data corruption or other issues. For example,\n",
    "if your program crashes or terminates before the file is closed, the file may be left in an inconsistent state,\n",
    "which can cause data loss or other problems."
   ]
  },
  {
   "cell_type": "markdown",
   "id": "97faf0b6-ec09-4b2e-810c-dd5da6e76a0b",
   "metadata": {},
   "source": [
    "Q3. Soln"
   ]
  },
  {
   "cell_type": "code",
   "execution_count": 1,
   "id": "f986066b-7cfc-40e4-a545-f8dfc4886f2a",
   "metadata": {},
   "outputs": [],
   "source": [
    "with open(\"data_science_master.txt\", \"w\") as f:\n",
    "    f.write(\"I want to become a Data Scientist\")\n"
   ]
  },
  {
   "cell_type": "code",
   "execution_count": 2,
   "id": "75d41ab8-4e18-42b9-82f5-68f5023b72a3",
   "metadata": {},
   "outputs": [
    {
     "name": "stdout",
     "output_type": "stream",
     "text": [
      "I want to become a Data Scientist\n"
     ]
    }
   ],
   "source": [
    "with open(\"data_science_master.txt\", \"r\") as f:\n",
    "    print(f.read())\n",
    "    "
   ]
  },
  {
   "cell_type": "markdown",
   "id": "b477ee3b-6284-459e-af06-b7e7e2718870",
   "metadata": {},
   "source": [
    "Q4. Soln"
   ]
  },
  {
   "cell_type": "code",
   "execution_count": null,
   "id": "b1fd3cde-42a5-4c1e-b2e6-5ff296622356",
   "metadata": {},
   "outputs": [],
   "source": [
    "1.read() method: The read() method reads the entire contents of the file as a single string.\n",
    "2.readline() method: The readline() method reads one line of the file at a time.\n",
    "3.readlines() method: The readlines() method reads the entire file and returns a list of strings, where each string is a line of the file.\n",
    "It is important to note that the readline() and readlines() methods both return the lines with the line endings\n",
    "(newline characters). To remove the line endings, you can use the strip() method on the line.\n",
    "\"\"\""
   ]
  },
  {
   "cell_type": "markdown",
   "id": "5fff80d4-93e0-46c2-9daa-14ce1432681d",
   "metadata": {},
   "source": [
    "Q5. Soln"
   ]
  },
  {
   "cell_type": "code",
   "execution_count": null,
   "id": "274978d7-68f5-4458-b422-8409dd499b9b",
   "metadata": {},
   "outputs": [],
   "source": [
    "The with statement is often used in conjunction with open() to handle files in Python because it provides several \n",
    "advantages over using open() alone.\n",
    "\n",
    "One advantage of using the with statement is that it automatically closes the file when you are done with it,\n",
    "even if an exception occurs. This ensures that the file is closed properly, which is important to prevent data loss \n",
    "and to release system resources.\n",
    "\n",
    "python\n",
    "\n",
    "Another advantage of using the with statement is that it helps to avoid resource leaks. If you forget to close the\n",
    "file after you are done with it, the file will remain open and consume system resources until the program terminates.\n",
    "With the with statement, you don't have to worry about forgetting to close the file because it is automatically closed \n",
    "for you.\n",
    "\n",
    "Finally, the with statement makes the code more readable and less prone to errors. By using the with statement, you can \n",
    "make the intent of your code clearer and avoid common mistakes, such as forgetting to close the file or incorrectly \n",
    "closing the file before you are done with it.\n",
    "\n",
    "In conclusion, using the with statement in conjunction with open() is a recommended best practice for working with files \n",
    "in Python because it provides a convenient and reliable way to handle files while ensuring that they are closed properly\n",
    "and without resource leaks."
   ]
  },
  {
   "cell_type": "markdown",
   "id": "aa12f3fc-266d-4a11-96d7-a7ad93ee8075",
   "metadata": {},
   "source": [
    "Q6. Soln."
   ]
  },
  {
   "cell_type": "code",
   "execution_count": 4,
   "id": "4c59cc13-0691-40d8-968d-5fdc29451ea2",
   "metadata": {},
   "outputs": [],
   "source": [
    "1.write() function: The write() function writes a string to the file. If you want to write multiple lines to a file,\n",
    "you can call the write() function multiple times.\n",
    "\n",
    "with open(\"example.txt\", \"w\") as f:\n",
    "    f.write(\"Hello, World!\\n\")\n",
    "    f.write(\"This is a text file.\\n\")\n",
    " \n",
    "2.writelines function: The writelines() function writes a sequence of strings to the file. The strings are\n",
    "concatenated without adding separators.\n",
    "\n",
    "\n",
    "lines = [\"Hello, World!\\n\", \"This is a text file.\\n\"]\n",
    "\n",
    "with open(\"example.txt\", \"w\") as f:\n",
    "    f.writelines(lines)"
   ]
  },
  {
   "cell_type": "code",
   "execution_count": null,
   "id": "c71ff9f6-6914-49ac-a0b0-4056fa5a97b9",
   "metadata": {},
   "outputs": [],
   "source": []
  }
 ],
 "metadata": {
  "kernelspec": {
   "display_name": "Python 3 (ipykernel)",
   "language": "python",
   "name": "python3"
  },
  "language_info": {
   "codemirror_mode": {
    "name": "ipython",
    "version": 3
   },
   "file_extension": ".py",
   "mimetype": "text/x-python",
   "name": "python",
   "nbconvert_exporter": "python",
   "pygments_lexer": "ipython3",
   "version": "3.10.8"
  }
 },
 "nbformat": 4,
 "nbformat_minor": 5
}
