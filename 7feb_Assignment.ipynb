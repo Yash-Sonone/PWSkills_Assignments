{
 "cells": [
  {
   "cell_type": "markdown",
   "id": "a31b3512-3e3f-4c6c-8847-2fce90931086",
   "metadata": {},
   "source": [
    "Q1. Soln."
   ]
  },
  {
   "cell_type": "code",
   "execution_count": 2,
   "id": "fec17867-052c-4595-bc91-14a6de094df6",
   "metadata": {},
   "outputs": [
    {
     "name": "stdin",
     "output_type": "stream",
     "text": [
      "Please enter your passoward ? AAaas@#$%123\n"
     ]
    },
    {
     "name": "stdout",
     "output_type": "stream",
     "text": [
      "Valid Password\n"
     ]
    }
   ],
   "source": [
    "import string\n",
    "\n",
    "\n",
    "def check_password(password):\n",
    "\n",
    "    if len(password) >= 10:\n",
    "        count_lower_case = 0\n",
    "        count_upper_case = 0\n",
    "        count_special = 0\n",
    "        count_int = 0\n",
    "        for word in password:\n",
    "            if word in string.ascii_lowercase:\n",
    "                count_lower_case += 1\n",
    "                continue\n",
    "            elif word in string.ascii_uppercase:\n",
    "                count_upper_case += 1\n",
    "                continue\n",
    "            elif word in string.punctuation:\n",
    "                count_special += 1\n",
    "                continue\n",
    "            elif word in string.octdigits:\n",
    "                count_int += 1\n",
    "                continue\n",
    "        if count_lower_case >= 2 or count_upper_case >= 2 or count_special >= 3 or count_int >= 1:\n",
    "            return \"Valid Password\"\n",
    "        else:\n",
    "            return \"Invalid Password\"\n",
    "    else:\n",
    "        return \"Invalid Password\"\n",
    "    \n",
    "user_input = input(\"Please enter your passoward ?\")\n",
    "print(check_password(user_input))"
   ]
  },
  {
   "cell_type": "markdown",
   "id": "d433b9ed-ebe1-4155-9484-8efb6ed9cc30",
   "metadata": {},
   "source": [
    "Q2. Soln"
   ]
  },
  {
   "cell_type": "markdown",
   "id": "4ef9cf46-9c88-4d99-b6f9-0361b6632233",
   "metadata": {},
   "source": [
    "A. Soln"
   ]
  },
  {
   "cell_type": "code",
   "execution_count": 4,
   "id": "7700d2eb-ca73-4102-9118-c5265a91322e",
   "metadata": {},
   "outputs": [
    {
     "name": "stdin",
     "output_type": "stream",
     "text": [
      "Please enter your string. India\n"
     ]
    },
    {
     "name": "stdout",
     "output_type": "stream",
     "text": [
      "True\n"
     ]
    }
   ],
   "source": [
    "user_input = input(\"Please enter your string.\")\n",
    "check_correct = lambda input: True if input[0] == \"I\" else False\n",
    "print(check_correct(user_input))"
   ]
  },
  {
   "cell_type": "markdown",
   "id": "3a1027e5-2084-4bc3-b705-a6041c67f9c9",
   "metadata": {},
   "source": [
    "B. Soln."
   ]
  },
  {
   "cell_type": "code",
   "execution_count": 5,
   "id": "03b1b045-795a-4298-a20c-2f1525e832f4",
   "metadata": {},
   "outputs": [
    {
     "name": "stdin",
     "output_type": "stream",
     "text": [
      "Please enter your string. 7854977\n"
     ]
    },
    {
     "name": "stdout",
     "output_type": "stream",
     "text": [
      "True\n"
     ]
    }
   ],
   "source": [
    "user_input = input(\"Please enter your string.\")\n",
    "check_correct = lambda input: True if input.isnumeric() else False\n",
    "print(check_correct(user_input))"
   ]
  },
  {
   "cell_type": "markdown",
   "id": "224a5c2e-3118-4654-8539-50758329dd81",
   "metadata": {},
   "source": [
    "C. Soln."
   ]
  },
  {
   "cell_type": "code",
   "execution_count": 7,
   "id": "c58ac2c2-ae87-408f-86a7-6dc288f7217d",
   "metadata": {},
   "outputs": [
    {
     "name": "stdout",
     "output_type": "stream",
     "text": [
      "[('orange', 80), ('mango', 99), ('grapes', 1000)]\n"
     ]
    }
   ],
   "source": [
    "list_x = [(\"mango\", 99), (\"orange\", 80), (\"grapes\", 1000)]\n",
    "list_x.sort(key=lambda x: x[1])\n",
    "print(list_x)"
   ]
  },
  {
   "cell_type": "markdown",
   "id": "5e2ce934-5da2-4024-99a1-97c1c0ff284b",
   "metadata": {},
   "source": [
    "D. Soln."
   ]
  },
  {
   "cell_type": "code",
   "execution_count": 8,
   "id": "c51ca3b1-fa1d-4df5-af09-013b2ea65eb1",
   "metadata": {},
   "outputs": [
    {
     "name": "stdout",
     "output_type": "stream",
     "text": [
      "[1, 4, 9, 16, 25, 36, 49, 64, 81, 100, 121, 144, 169, 196, 225, 256, 289, 324, 361, 400, 441, 484, 529, 576, 625]\n"
     ]
    }
   ],
   "source": [
    "sq_list = [word**2 for word in range(1, 26)]\n",
    "print(sq_list)"
   ]
  },
  {
   "cell_type": "markdown",
   "id": "9b9b5299-8011-4c75-a9d4-d3d4461263a4",
   "metadata": {},
   "source": [
    "E. Soln."
   ]
  },
  {
   "cell_type": "code",
   "execution_count": 9,
   "id": "b3427c41-f7f5-4016-996c-b66235d84786",
   "metadata": {},
   "outputs": [
    {
     "name": "stdout",
     "output_type": "stream",
     "text": [
      "[1, 8, 27, 64, 125, 216, 343, 512, 729, 1000]\n"
     ]
    }
   ],
   "source": [
    "cube_list = [word**3 for word in range(1, 11)]\n",
    "print(cube_list)"
   ]
  },
  {
   "cell_type": "markdown",
   "id": "d3347ee8-5b50-422b-b659-fe15ddb7d876",
   "metadata": {},
   "source": [
    "F. Soln."
   ]
  },
  {
   "cell_type": "code",
   "execution_count": 10,
   "id": "08d7ccbd-b634-48b1-b81a-8433d2cc171c",
   "metadata": {},
   "outputs": [
    {
     "name": "stdin",
     "output_type": "stream",
     "text": [
      "Please enter your no.? 6\n"
     ]
    },
    {
     "name": "stdout",
     "output_type": "stream",
     "text": [
      "['True']\n"
     ]
    }
   ],
   "source": [
    "user_input = int(input(\"Please enter your no.?\"))\n",
    "new_list =[]\n",
    "new_list.append(user_input)\n",
    "result  = [ \"True\" for num in new_list if num%2 ==0]\n",
    "print(result)\n"
   ]
  },
  {
   "cell_type": "code",
   "execution_count": null,
   "id": "f460421e-f51e-4ddc-829d-5c88f3606eca",
   "metadata": {},
   "outputs": [],
   "source": [
    "G. So"
   ]
  }
 ],
 "metadata": {
  "kernelspec": {
   "display_name": "Python 3 (ipykernel)",
   "language": "python",
   "name": "python3"
  },
  "language_info": {
   "codemirror_mode": {
    "name": "ipython",
    "version": 3
   },
   "file_extension": ".py",
   "mimetype": "text/x-python",
   "name": "python",
   "nbconvert_exporter": "python",
   "pygments_lexer": "ipython3",
   "version": "3.10.8"
  }
 },
 "nbformat": 4,
 "nbformat_minor": 5
}
