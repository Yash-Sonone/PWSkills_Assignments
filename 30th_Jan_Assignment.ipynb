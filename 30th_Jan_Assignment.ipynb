{
 "cells": [
  {
   "cell_type": "markdown",
   "id": "8d76be81-5a26-4470-a75e-b108e86f98c5",
   "metadata": {},
   "source": [
    "Q1. Soln.\n"
   ]
  },
  {
   "cell_type": "code",
   "execution_count": 1,
   "id": "89aeb9b6-19a7-4c29-9e74-776272c9c513",
   "metadata": {},
   "outputs": [
    {
     "name": "stdin",
     "output_type": "stream",
     "text": [
      " Enter the percentage :  81\n"
     ]
    },
    {
     "name": "stdout",
     "output_type": "stream",
     "text": [
      " Grade : B \n"
     ]
    }
   ],
   "source": [
    "percent = int(input(\" Enter the percentage : \"))\n",
    "\n",
    "if percent > 90 :\n",
    "    print(\" Grade : A \")\n",
    "elif percent >80 and percent <= 90 :\n",
    "    print(\" Grade : B \")\n",
    "elif percent >= 60 and percent <= 80 :\n",
    "    print(\" Grade : C \")\n",
    "else :\n",
    "    print(\" Grade : D \")\n"
   ]
  },
  {
   "cell_type": "markdown",
   "id": "01574669-1741-4112-8b0a-ddde5bdb414a",
   "metadata": {},
   "source": [
    "Q2. Soln.\n"
   ]
  },
  {
   "cell_type": "code",
   "execution_count": 2,
   "id": "7906ac69-67c9-4a89-9aa9-1da23cecfa14",
   "metadata": {},
   "outputs": [
    {
     "name": "stdin",
     "output_type": "stream",
     "text": [
      " Enter the cost price of the bike :  53000\n"
     ]
    },
    {
     "name": "stdout",
     "output_type": "stream",
     "text": [
      " The road tax to be paid is : 10% \n"
     ]
    }
   ],
   "source": [
    "cp_bike = int(input(\" Enter the cost price of the bike : \"))\n",
    "\n",
    "if cp_bike > 100000 :\n",
    "    print(\" The road tax to be paid is : 15% \")\n",
    "elif cp_bike > 50000 and cp_bike <= 100000 :\n",
    "    print(\" The road tax to be paid is : 10% \")\n",
    "elif cp_bike <= 50000 :\n",
    "    print(\" The road tax to be paid is : 5% \")"
   ]
  },
  {
   "cell_type": "markdown",
   "id": "a4619fa3-c935-4d79-8390-cc9c168821a2",
   "metadata": {},
   "source": [
    "Q3. Soln.\n"
   ]
  },
  {
   "cell_type": "code",
   "execution_count": 5,
   "id": "ed9663a8-4bd0-4900-b501-87c2fe96573d",
   "metadata": {},
   "outputs": [
    {
     "name": "stdin",
     "output_type": "stream",
     "text": [
      " Enter the name of the city :  Jaipur\n"
     ]
    },
    {
     "name": "stdout",
     "output_type": "stream",
     "text": [
      " Monument : Jal Mahal \n"
     ]
    }
   ],
   "source": [
    "city = str(input(\" Enter the name of the city : \"))\n",
    "\n",
    "if city == \"Delhi\" :\n",
    "    print(\" Monument : Red Fort \")\n",
    "elif city == \"Agra\" :\n",
    "    print(\" Monument : Taj Mahal \")\n",
    "elif city == \"Jaipur\" :\n",
    "    print(\" Monument : Jal Mahal \")\n",
    "else :\n",
    "    print(\" Enter only one of the given cities in the block of code . \")"
   ]
  },
  {
   "cell_type": "markdown",
   "id": "a017e307-bf6d-4a90-9942-8ca368ec6840",
   "metadata": {},
   "source": [
    "Q4. Soln."
   ]
  },
  {
   "cell_type": "code",
   "execution_count": 7,
   "id": "e67c7cff-1e30-410d-bf47-37ff8e73d266",
   "metadata": {},
   "outputs": [
    {
     "name": "stdin",
     "output_type": "stream",
     "text": [
      " Enter the Number :  987\n"
     ]
    },
    {
     "name": "stdout",
     "output_type": "stream",
     "text": [
      " 5 times the no. is divisible by 3 \n"
     ]
    }
   ],
   "source": [
    "num = int(input(\" Enter the Number : \"))\n",
    "i = 0\n",
    "\n",
    "while num > 10 :\n",
    "    num = num / 3\n",
    "    i = i + 1\n",
    "print(\"\",i,\"times the no. is divisible by 3 \")"
   ]
  },
  {
   "cell_type": "markdown",
   "id": "5740d4d8-4584-4e31-9bdc-eb38ef36c596",
   "metadata": {},
   "source": [
    "Q5. Soln."
   ]
  },
  {
   "cell_type": "code",
   "execution_count": null,
   "id": "16006b6f-35a5-499e-bfd4-d596c93478dd",
   "metadata": {},
   "outputs": [],
   "source": [
    "#The While loop in python is executed util the given condition does not become false but if we talk about the For loop ,\n",
    "#It is used when we need to iterate the elements of any iterable object like list , tuple , etc .\n",
    "\n",
    "#Syntax for the While loop ==>  while condition :\n",
    "                                    # block of statements to be executed \n",
    "                                    # counter = counter + 1\n",
    "        \n",
    "#Ex. of while loop : print no. from 0 to n( user input ) using while loop*\n",
    "i = 0\n",
    "num_1 = int(input(\" Enter the no. : \" ))\n",
    "    \n",
    "while i <= num_1 :\n",
    "        print(i)\n",
    "        i = i+ 1\n",
    "\n",
    "#Here the no. will start printing from 0 and will stop when the no. is less than or equal to user input and when the given \n",
    "#condition becomes false then interpreter will come out of the loop "
   ]
  },
  {
   "cell_type": "markdown",
   "id": "0a5924eb-cf83-4c86-bc4e-d81299663dc9",
   "metadata": {},
   "source": [
    "Q6. Soln."
   ]
  },
  {
   "cell_type": "code",
   "execution_count": 15,
   "id": "d8f0d72c-27f7-4efc-a0e5-51c973d072cf",
   "metadata": {},
   "outputs": [
    {
     "name": "stdout",
     "output_type": "stream",
     "text": [
      "\n",
      " Pattern no. 1 \n",
      "\n",
      "*\n",
      "**\n",
      "***\n",
      "****\n",
      "*****\n",
      "\n",
      " Pattern no. 2 \n",
      "\n",
      "*****\n",
      "****\n",
      "***\n",
      "**\n",
      "*\n",
      "\n",
      " Pattern no. 3 \n",
      "\n",
      "    *\n",
      "   **\n",
      "  ***\n",
      " ****\n",
      "*****\n"
     ]
    }
   ],
   "source": [
    "print(\"\\n Pattern no. 1 \\n\")\n",
    "#1. Patter no. 1\n",
    "\n",
    "max_rows = 5\n",
    "i = 1\n",
    "\n",
    "while i <= max_rows :\n",
    "    print(\"*\"*i)\n",
    "    i = i + 1\n",
    "    \n",
    "\n",
    "print(\"\\n Pattern no. 2 \\n\")\n",
    "#2. Patter no. 2\n",
    "\n",
    "max_rows = 5\n",
    "i = 1\n",
    "\n",
    "while max_rows >= i :\n",
    "    print(\"*\"*max_rows)\n",
    "    max_rows = max_rows - 1\n",
    "\n",
    "print(\"\\n Pattern no. 3 \\n\")\n",
    "#3. pattern no. 3\n",
    "\n",
    "max_rows = 5\n",
    "i = 1\n",
    "\n",
    "while i <= max_rows :\n",
    "    print(\" \" * (max_rows-i) + \"*\" * i)\n",
    "    i = i + 1\n",
    "    "
   ]
  },
  {
   "cell_type": "markdown",
   "id": "50032d83-a130-448f-8164-14e191571a51",
   "metadata": {},
   "source": [
    "Q7. Soln.\n"
   ]
  },
  {
   "cell_type": "code",
   "execution_count": 16,
   "id": "67286231-6eb5-48a1-8f09-3cab667ef915",
   "metadata": {},
   "outputs": [
    {
     "name": "stdout",
     "output_type": "stream",
     "text": [
      "10\n",
      "9\n",
      "8\n",
      "7\n",
      "6\n",
      "5\n",
      "4\n",
      "3\n",
      "2\n",
      "1\n"
     ]
    }
   ],
   "source": [
    "numberr = 10 \n",
    "i = 1\n",
    "\n",
    "while numberr >= i :\n",
    "    print(numberr)\n",
    "    numberr = numberr - 1"
   ]
  },
  {
   "cell_type": "markdown",
   "id": "443c2d05-0939-46a0-9b55-d9c73f4cf44b",
   "metadata": {},
   "source": [
    "Q8. Soln."
   ]
  },
  {
   "cell_type": "code",
   "execution_count": 17,
   "id": "41367f43-ca5d-40e8-8a44-59eef7dc7957",
   "metadata": {},
   "outputs": [
    {
     "name": "stdout",
     "output_type": "stream",
     "text": [
      "10\n",
      "9\n",
      "8\n",
      "7\n",
      "6\n",
      "5\n",
      "4\n",
      "3\n",
      "2\n",
      "1\n"
     ]
    }
   ],
   "source": [
    "numberr = 10 \n",
    "i = 1\n",
    "\n",
    "while numberr >= i :\n",
    "    print(numberr)\n",
    "    numberr = numberr - 1"
   ]
  },
  {
   "cell_type": "code",
   "execution_count": null,
   "id": "84bb3dd1-8b0b-498e-bbe8-be785ebaaabc",
   "metadata": {},
   "outputs": [],
   "source": []
  }
 ],
 "metadata": {
  "kernelspec": {
   "display_name": "Python 3 (ipykernel)",
   "language": "python",
   "name": "python3"
  },
  "language_info": {
   "codemirror_mode": {
    "name": "ipython",
    "version": 3
   },
   "file_extension": ".py",
   "mimetype": "text/x-python",
   "name": "python",
   "nbconvert_exporter": "python",
   "pygments_lexer": "ipython3",
   "version": "3.10.8"
  }
 },
 "nbformat": 4,
 "nbformat_minor": 5
}
