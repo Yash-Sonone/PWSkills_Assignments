{
 "cells": [
  {
   "cell_type": "markdown",
   "id": "5375c219-756d-4b75-a42a-a4a12583f185",
   "metadata": {},
   "source": [
    "Q1. Soln."
   ]
  },
  {
   "cell_type": "code",
   "execution_count": 6,
   "id": "55ae1cdb-e59e-4e01-94fd-99633c17b217",
   "metadata": {},
   "outputs": [],
   "source": [
    "#Guido van Rossum developed the python language in 1991 and was first released on 20 february 1991 ."
   ]
  },
  {
   "cell_type": "markdown",
   "id": "ab1e79fb-f253-4d22-833a-acafaf1f5b9e",
   "metadata": {},
   "source": [
    "Q2. Soln."
   ]
  },
  {
   "cell_type": "code",
   "execution_count": 7,
   "id": "1947dc3f-6ee1-45cb-95c3-6392706d9e26",
   "metadata": {},
   "outputs": [],
   "source": [
    "#Python is an interpreted programming language , supporting object-oriented , structured , and functional programming ."
   ]
  },
  {
   "cell_type": "markdown",
   "id": "0d758f1c-dd81-4170-bf5b-37832cd21251",
   "metadata": {},
   "source": [
    "Q3. Soln."
   ]
  },
  {
   "cell_type": "code",
   "execution_count": 8,
   "id": "56f74148-4e71-444b-93de-d43f2a1906c2",
   "metadata": {},
   "outputs": [
    {
     "name": "stdout",
     "output_type": "stream",
     "text": [
      "5 10\n"
     ]
    }
   ],
   "source": [
    "a = 5\n",
    "A = 10\n",
    "print(a,A)\n",
    "\n",
    "#above block of code we can say that python is case sensitive language.\n"
   ]
  },
  {
   "cell_type": "markdown",
   "id": "f8f65c3b-2da9-4684-97f7-7478da7767b7",
   "metadata": {},
   "source": [
    "Q4. Soln."
   ]
  },
  {
   "cell_type": "code",
   "execution_count": 9,
   "id": "db8e9150-910d-4845-9480-3c1f22108f5b",
   "metadata": {},
   "outputs": [],
   "source": [
    "#.py is the correct extension for the python file."
   ]
  },
  {
   "cell_type": "markdown",
   "id": "a9e5ea2d-6b4e-4a39-8b41-b98a245d8f54",
   "metadata": {},
   "source": [
    "Q5. Soln."
   ]
  },
  {
   "cell_type": "code",
   "execution_count": 10,
   "id": "13cc4fae-e85c-4de7-90e0-56a419e066c0",
   "metadata": {
    "tags": []
   },
   "outputs": [],
   "source": [
    "#Python code is both compiled as well as interpreted."
   ]
  },
  {
   "cell_type": "markdown",
   "id": "ea9b08a1-f1d1-41b3-8471-74068b335cc2",
   "metadata": {},
   "source": [
    "Q6. Soln."
   ]
  },
  {
   "cell_type": "code",
   "execution_count": 11,
   "id": "92bce54b-2e79-4ed5-9c04-c9dcf8019268",
   "metadata": {},
   "outputs": [],
   "source": [
    "#Indentation is used to define the block of code in the python language ."
   ]
  },
  {
   "cell_type": "markdown",
   "id": "73249770-49e2-4bfb-8a49-0aa6acd7b658",
   "metadata": {},
   "source": [
    "Q7. Soln."
   ]
  },
  {
   "cell_type": "code",
   "execution_count": null,
   "id": "3b1c8f9c-bead-4e0f-94e2-e812669fbadd",
   "metadata": {},
   "outputs": [],
   "source": [
    "#  \"#\" symbol is used to give single line comments in python."
   ]
  },
  {
   "cell_type": "markdown",
   "id": "4d42a95b-e987-4313-9108-61e9ed574683",
   "metadata": {},
   "source": [
    "Q8. Soln."
   ]
  },
  {
   "cell_type": "code",
   "execution_count": null,
   "id": "c25b4185-95ee-46c2-8724-2a56c18b0455",
   "metadata": {},
   "outputs": [],
   "source": [
    "import platform\n",
    "platform.python_version()\n",
    "#python_version() Is the function used for finding the version of python we are currently working on.\n"
   ]
  },
  {
   "cell_type": "markdown",
   "id": "444eeedb-e9f9-495f-a046-087c856c68bf",
   "metadata": {},
   "source": [
    "Q9. Soln."
   ]
  },
  {
   "cell_type": "code",
   "execution_count": null,
   "id": "618e9337-6657-4ac4-ba05-c65364cf2351",
   "metadata": {},
   "outputs": [],
   "source": [
    "#Python supports to make anonymous functions which are not bound to a name at runtime by using a construct called \"lambda\"."
   ]
  },
  {
   "cell_type": "markdown",
   "id": "0de779a4-5337-484c-a81e-403c69ae69a5",
   "metadata": {},
   "source": [
    "Q10. Soln."
   ]
  },
  {
   "cell_type": "code",
   "execution_count": null,
   "id": "af05a5db-bf87-45e4-b316-bf73c876e5ef",
   "metadata": {},
   "outputs": [],
   "source": [
    "#pip in the python programming language stands for \"preferred installer program\"."
   ]
  },
  {
   "cell_type": "markdown",
   "id": "d780fe0d-77ce-4124-a478-46884a2ebc26",
   "metadata": {},
   "source": [
    "Q11. Soln."
   ]
  },
  {
   "cell_type": "code",
   "execution_count": null,
   "id": "9bbf3588-6d95-4177-85b2-15c909ad9bbd",
   "metadata": {},
   "outputs": [],
   "source": [
    "#some of the Built-in Functions in python are:\n",
    "#1. print()\n",
    "#2. type()\n",
    "#3. list()\n",
    "#4. sum() "
   ]
  },
  {
   "cell_type": "markdown",
   "id": "e999c492-9422-4397-8262-0cfd5f16fc23",
   "metadata": {},
   "source": [
    "Q12. Soln."
   ]
  },
  {
   "cell_type": "code",
   "execution_count": null,
   "id": "a2acec5a-c6a4-4952-ad73-008422dfc586",
   "metadata": {},
   "outputs": [],
   "source": [
    "#79 characters is the maximum length of identifiers in python."
   ]
  },
  {
   "cell_type": "markdown",
   "id": "00cda327-501f-4eef-a7b2-08aef9ef6c31",
   "metadata": {},
   "source": [
    "Q13. Soln."
   ]
  },
  {
   "cell_type": "code",
   "execution_count": null,
   "id": "ab0c867c-cad7-415c-a3ef-36bd61314f3c",
   "metadata": {},
   "outputs": [],
   "source": [
    "/*The python language is having way more \"Simple syntax\" than other languages , the python language also provide \n",
    "\"Large number of libraries\" which make it more powerful and also the python is \"Dynamically typed language\" and also it's \n",
    "very flexible for machine learning and deep learning , etc projects and also it's  \"Free and open-source language\". */"
   ]
  },
  {
   "cell_type": "markdown",
   "id": "2570b7fe-ce30-4492-98ce-48624e1e416b",
   "metadata": {},
   "source": [
    "Q14. Soln."
   ]
  },
  {
   "cell_type": "code",
   "execution_count": null,
   "id": "2c3f6af5-f98f-497a-b730-422b93c20fe6",
   "metadata": {},
   "outputs": [],
   "source": [
    "/*Memory management in Python involves a private heap containing all Python objects and data structures. \n",
    "The management of this private heap is ensured internally by the Python memory manager.*/"
   ]
  },
  {
   "cell_type": "markdown",
   "id": "362d09ef-3364-4164-bf19-b816fcb7b5b4",
   "metadata": {},
   "source": [
    "Q15. Soln."
   ]
  },
  {
   "cell_type": "code",
   "execution_count": null,
   "id": "5a2a2179-9725-4cc9-a391-118cfd38892d",
   "metadata": {},
   "outputs": [],
   "source": [
    "/*The complete path of python.exe can be added by:\n",
    "\n",
    "step1. Right-clicking This PC and going to Properties.\n",
    "\n",
    "step2. Clicking on the Advanced system settings in the menu on the left.\n",
    "\n",
    "step3. Clicking on the Environment Variables button on the bottom right.\n",
    "\n",
    "step4. In the System variables section, selecting the Path variable and clicking on Edit. The next screen will show all the \n",
    "       directories that are currently a part of the PATH variable.\n",
    "\n",
    "step5. Clicking on New and entering Python’s install directory.\n",
    "\n",
    "Python can now be used directly from the command prompt without having to write its location. \n",
    "Try executing the command python --version; it will output the version of Python installed on your system.*/"
   ]
  },
  {
   "cell_type": "markdown",
   "id": "525cf0c6-7f5d-4457-a00e-e769a6b47fc3",
   "metadata": {},
   "source": [
    "Q16. Soln"
   ]
  },
  {
   "cell_type": "code",
   "execution_count": null,
   "id": "4f65587e-8b92-446a-8360-feeb73c97138",
   "metadata": {},
   "outputs": [],
   "source": [
    "#Yes , Indentation is neccessary in the python language and it's very importatnt as it is used to indicate the block of statement ."
   ]
  },
  {
   "cell_type": "code",
   "execution_count": null,
   "id": "98f53563-7443-4aa3-81b8-756c73c17cde",
   "metadata": {},
   "outputs": [],
   "source": []
  }
 ],
 "metadata": {
  "kernelspec": {
   "display_name": "Python 3 (ipykernel)",
   "language": "python",
   "name": "python3"
  },
  "language_info": {
   "codemirror_mode": {
    "name": "ipython",
    "version": 3
   },
   "file_extension": ".py",
   "mimetype": "text/x-python",
   "name": "python",
   "nbconvert_exporter": "python",
   "pygments_lexer": "ipython3",
   "version": "3.10.8"
  }
 },
 "nbformat": 4,
 "nbformat_minor": 5
}
