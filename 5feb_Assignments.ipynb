{
 "cells": [
  {
   "cell_type": "markdown",
   "id": "df34ac1e-8af4-4064-8437-0aa9152271fe",
   "metadata": {},
   "source": [
    "Q1. Soln."
   ]
  },
  {
   "cell_type": "code",
   "execution_count": 12,
   "id": "05b1a915-0da1-4d2e-82f4-26e4fbbd54a5",
   "metadata": {},
   "outputs": [
    {
     "data": {
      "text/plain": [
       "' Hello pwskills assignments checker how are you '"
      ]
     },
     "execution_count": 12,
     "metadata": {},
     "output_type": "execute_result"
    }
   ],
   "source": [
    "#class :\n",
    "  \n",
    "   # A class is a code template for creating objects. Objects have member variables and have behaviour associated with them. \n",
    "    #In python a class is created by the keyword class.\n",
    "\n",
    "#object :\n",
    "    \n",
    "    #An object is created using the constructor of the class. This object will then be called the instance of the class. \n",
    "    #In Python we create instances in the following manner\n",
    "\n",
    "#Ex. of class and object \n",
    "\n",
    "class first_class :\n",
    "    \n",
    "    strr = \" Hello pwskills assignments checker how are you \"\n",
    "\n",
    "obj_1 = first_class()\n",
    "\n",
    "obj_1.strr"
   ]
  },
  {
   "cell_type": "markdown",
   "id": "aae7aae4-6e7d-4da1-bd89-ab19d08b977f",
   "metadata": {},
   "source": [
    "Q2. Soln."
   ]
  },
  {
   "cell_type": "code",
   "execution_count": 13,
   "id": "ee786ad8-7625-47c9-a289-e21a180ae71c",
   "metadata": {},
   "outputs": [
    {
     "data": {
      "text/plain": [
       "'1.Inheritance\\n   2.Polymorphism\\n   3.Encapsulation\\n   4.Abstraction.'"
      ]
     },
     "execution_count": 13,
     "metadata": {},
     "output_type": "execute_result"
    }
   ],
   "source": [
    "\"\"\"1.Inheritance\n",
    "   2.Polymorphism\n",
    "   3.Encapsulation\n",
    "   4.Abstraction.\"\"\""
   ]
  },
  {
   "cell_type": "markdown",
   "id": "1e182086-a2e5-434e-9ccf-bc4e1feae5a4",
   "metadata": {},
   "source": [
    "Q3. Soln."
   ]
  },
  {
   "cell_type": "code",
   "execution_count": 14,
   "id": "d606ce68-c21b-4075-b84b-631b8ec119fc",
   "metadata": {},
   "outputs": [
    {
     "name": "stdout",
     "output_type": "stream",
     "text": [
      "Hello, my name is yash\n"
     ]
    }
   ],
   "source": [
    "# The __init__() function is the kind of constructor in python language which is always used in class in order to get some user \n",
    "# input for an object or instance of the class .\n",
    "\n",
    "class Person:\n",
    " \n",
    "    def __init__(self, name):\n",
    "        self.name = name\n",
    "    def say_hi(self):\n",
    "        print('Hello, my name is', self.name)\n",
    " \n",
    " \n",
    "p = Person('yash')\n",
    "p.say_hi()\n",
    "\n"
   ]
  },
  {
   "cell_type": "code",
   "execution_count": null,
   "id": "bddc895e-d758-46b4-b4e0-1ebbf7a54ac1",
   "metadata": {},
   "outputs": [],
   "source": [
    "Q4. "
   ]
  }
 ],
 "metadata": {
  "kernelspec": {
   "display_name": "Python 3 (ipykernel)",
   "language": "python",
   "name": "python3"
  },
  "language_info": {
   "codemirror_mode": {
    "name": "ipython",
    "version": 3
   },
   "file_extension": ".py",
   "mimetype": "text/x-python",
   "name": "python",
   "nbconvert_exporter": "python",
   "pygments_lexer": "ipython3",
   "version": "3.10.8"
  }
 },
 "nbformat": 4,
 "nbformat_minor": 5
}
